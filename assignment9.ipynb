{
  "nbformat": 4,
  "nbformat_minor": 0,
  "metadata": {
    "colab": {
      "provenance": []
    },
    "kernelspec": {
      "name": "python3",
      "display_name": "Python 3"
    },
    "language_info": {
      "name": "python"
    }
  },
  "cells": [
    {
      "cell_type": "code",
      "source": [
        "import nltk\n",
        "nltk.download('punkt_tab')\n",
        "print(nltk.__version__)"
      ],
      "metadata": {
        "colab": {
          "base_uri": "https://localhost:8080/"
        },
        "id": "5_rtPxQC7pyU",
        "outputId": "1ac54fac-75ca-499b-c561-8b09c258b690"
      },
      "execution_count": 6,
      "outputs": [
        {
          "output_type": "stream",
          "name": "stdout",
          "text": [
            "3.9.1\n"
          ]
        },
        {
          "output_type": "stream",
          "name": "stderr",
          "text": [
            "[nltk_data] Downloading package punkt_tab to /root/nltk_data...\n",
            "[nltk_data]   Unzipping tokenizers/punkt_tab.zip.\n"
          ]
        }
      ]
    },
    {
      "cell_type": "code",
      "execution_count": 7,
      "metadata": {
        "colab": {
          "base_uri": "https://localhost:8080/",
          "height": 164
        },
        "id": "9fTOts6j6WsH",
        "outputId": "f0eb6d0e-f4cb-433c-ede0-2ed5c0dbdb68"
      },
      "outputs": [
        {
          "output_type": "execute_result",
          "data": {
            "text/plain": [
              "'technology is evolving at a rapid pace transforming the way we live work and communicate artificial intelligence ai and machine learning ml are now at the forefront of innovation powering everything from virtual assistants like siri and alexa to selfdriving cars companies like google tesla and microsoft are investing heavily in these technologies to push the boundaries of whats possible while these advancements bring convenience they also raise concerns about privacy and job displacement despite the challenges the future of technology looks promising and full of opportunities its fascinating to see how deeply tech has become embedded in our everyday lives'"
            ],
            "application/vnd.google.colaboratory.intrinsic+json": {
              "type": "string"
            }
          },
          "metadata": {},
          "execution_count": 7
        }
      ],
      "source": [
        "#1.\n",
        "import nltk\n",
        "import string\n",
        "from nltk.tokenize import sent_tokenize\n",
        "text='''Technology is evolving at a rapid pace, transforming the way we live, work, and communicate. Artificial Intelligence (AI) and Machine Learning (ML) are now at the forefront of innovation, powering everything from virtual assistants like Siri and Alexa to self-driving cars. Companies like Google, Tesla, and Microsoft are investing heavily in these technologies to push the boundaries of what's possible. While these advancements bring convenience, they also raise concerns about privacy and job displacement. Despite the challenges, the future of technology looks promising and full of opportunities. It's fascinating to see how deeply tech has become embedded in our everyday lives.'''\n",
        "\n",
        "##1.\n",
        "text=text.lower()\n",
        "text_sent=sent_tokenize(text) #do sentence tokenisation before removing punctuation\n",
        "text=\"\".join([char for char in text if char not in string.punctuation])\n",
        "text"
      ]
    },
    {
      "cell_type": "code",
      "source": [
        "##2.\n",
        "from nltk.tokenize import word_tokenize,sent_tokenize\n",
        "\n",
        "text_word=word_tokenize(text)\n",
        "print(text_word)\n",
        "print(text_sent)"
      ],
      "metadata": {
        "colab": {
          "base_uri": "https://localhost:8080/"
        },
        "id": "8PjjAWC4BuBg",
        "outputId": "60a048ac-fb74-4ea5-dd4f-f345119d2531"
      },
      "execution_count": 8,
      "outputs": [
        {
          "output_type": "stream",
          "name": "stdout",
          "text": [
            "['technology', 'is', 'evolving', 'at', 'a', 'rapid', 'pace', 'transforming', 'the', 'way', 'we', 'live', 'work', 'and', 'communicate', 'artificial', 'intelligence', 'ai', 'and', 'machine', 'learning', 'ml', 'are', 'now', 'at', 'the', 'forefront', 'of', 'innovation', 'powering', 'everything', 'from', 'virtual', 'assistants', 'like', 'siri', 'and', 'alexa', 'to', 'selfdriving', 'cars', 'companies', 'like', 'google', 'tesla', 'and', 'microsoft', 'are', 'investing', 'heavily', 'in', 'these', 'technologies', 'to', 'push', 'the', 'boundaries', 'of', 'whats', 'possible', 'while', 'these', 'advancements', 'bring', 'convenience', 'they', 'also', 'raise', 'concerns', 'about', 'privacy', 'and', 'job', 'displacement', 'despite', 'the', 'challenges', 'the', 'future', 'of', 'technology', 'looks', 'promising', 'and', 'full', 'of', 'opportunities', 'its', 'fascinating', 'to', 'see', 'how', 'deeply', 'tech', 'has', 'become', 'embedded', 'in', 'our', 'everyday', 'lives']\n",
            "['technology is evolving at a rapid pace, transforming the way we live, work, and communicate.', 'artificial intelligence (ai) and machine learning (ml) are now at the forefront of innovation, powering everything from virtual assistants like siri and alexa to self-driving cars.', \"companies like google, tesla, and microsoft are investing heavily in these technologies to push the boundaries of what's possible.\", 'while these advancements bring convenience, they also raise concerns about privacy and job displacement.', 'despite the challenges, the future of technology looks promising and full of opportunities.', \"it's fascinating to see how deeply tech has become embedded in our everyday lives.\"]\n"
          ]
        }
      ]
    },
    {
      "cell_type": "code",
      "source": [
        "##3.\n",
        "from nltk.corpus import stopwords\n",
        "stop_words=set(stopwords.words('english'))\n",
        "\n",
        "text_word_no_stop=[word for word in text_word if word not in stop_words]\n",
        "text_word_no_stop"
      ],
      "metadata": {
        "colab": {
          "base_uri": "https://localhost:8080/"
        },
        "id": "XgIYTZpx_-Fc",
        "outputId": "8596dd9f-0a90-46f9-96b9-b7a35a221d22"
      },
      "execution_count": 9,
      "outputs": [
        {
          "output_type": "execute_result",
          "data": {
            "text/plain": [
              "['technology',\n",
              " 'evolving',\n",
              " 'rapid',\n",
              " 'pace',\n",
              " 'transforming',\n",
              " 'way',\n",
              " 'live',\n",
              " 'work',\n",
              " 'communicate',\n",
              " 'artificial',\n",
              " 'intelligence',\n",
              " 'ai',\n",
              " 'machine',\n",
              " 'learning',\n",
              " 'ml',\n",
              " 'forefront',\n",
              " 'innovation',\n",
              " 'powering',\n",
              " 'everything',\n",
              " 'virtual',\n",
              " 'assistants',\n",
              " 'like',\n",
              " 'siri',\n",
              " 'alexa',\n",
              " 'selfdriving',\n",
              " 'cars',\n",
              " 'companies',\n",
              " 'like',\n",
              " 'google',\n",
              " 'tesla',\n",
              " 'microsoft',\n",
              " 'investing',\n",
              " 'heavily',\n",
              " 'technologies',\n",
              " 'push',\n",
              " 'boundaries',\n",
              " 'whats',\n",
              " 'possible',\n",
              " 'advancements',\n",
              " 'bring',\n",
              " 'convenience',\n",
              " 'also',\n",
              " 'raise',\n",
              " 'concerns',\n",
              " 'privacy',\n",
              " 'job',\n",
              " 'displacement',\n",
              " 'despite',\n",
              " 'challenges',\n",
              " 'future',\n",
              " 'technology',\n",
              " 'looks',\n",
              " 'promising',\n",
              " 'full',\n",
              " 'opportunities',\n",
              " 'fascinating',\n",
              " 'see',\n",
              " 'deeply',\n",
              " 'tech',\n",
              " 'become',\n",
              " 'embedded',\n",
              " 'everyday',\n",
              " 'lives']"
            ]
          },
          "metadata": {},
          "execution_count": 9
        }
      ]
    },
    {
      "cell_type": "code",
      "source": [
        "##4.\n",
        "from nltk.probability import FreqDist\n",
        "fdist=FreqDist(text_word_no_stop)\n",
        "fdist"
      ],
      "metadata": {
        "colab": {
          "base_uri": "https://localhost:8080/"
        },
        "id": "mxA6PsTb_YTx",
        "outputId": "d0884e80-44a1-4b57-e9d2-83cef8a7ae43"
      },
      "execution_count": 10,
      "outputs": [
        {
          "output_type": "execute_result",
          "data": {
            "text/plain": [
              "FreqDist({'technology': 2, 'like': 2, 'evolving': 1, 'rapid': 1, 'pace': 1, 'transforming': 1, 'way': 1, 'live': 1, 'work': 1, 'communicate': 1, ...})"
            ]
          },
          "metadata": {},
          "execution_count": 10
        }
      ]
    },
    {
      "cell_type": "code",
      "source": [
        "#2.\n",
        "from nltk.stem import PorterStemmer\n",
        "from nltk.stem import LancasterStemmer\n",
        "\n",
        "ps=PorterStemmer()\n",
        "stemmed = [ps.stem(word) for word in text_word_no_stop]\n",
        "stemmed\n",
        "\n",
        "ls=LancasterStemmer()\n",
        "stemmedLs=[ls.stem(word) for word in text_word_no_stop ]\n",
        "stemmedLs"
      ],
      "metadata": {
        "colab": {
          "base_uri": "https://localhost:8080/"
        },
        "id": "nUO2QI25CVdW",
        "outputId": "ccb7bc2c-7145-4730-e34d-34ce44e2424e"
      },
      "execution_count": 11,
      "outputs": [
        {
          "output_type": "execute_result",
          "data": {
            "text/plain": [
              "['technolog',\n",
              " 'evolv',\n",
              " 'rapid',\n",
              " 'pac',\n",
              " 'transform',\n",
              " 'way',\n",
              " 'liv',\n",
              " 'work',\n",
              " 'commun',\n",
              " 'art',\n",
              " 'intellig',\n",
              " 'ai',\n",
              " 'machin',\n",
              " 'learn',\n",
              " 'ml',\n",
              " 'forefront',\n",
              " 'innov',\n",
              " 'pow',\n",
              " 'everyth',\n",
              " 'virt',\n",
              " 'assist',\n",
              " 'lik',\n",
              " 'sir',\n",
              " 'alex',\n",
              " 'selfdr',\n",
              " 'car',\n",
              " 'company',\n",
              " 'lik',\n",
              " 'googl',\n",
              " 'tesl',\n",
              " 'microsoft',\n",
              " 'invest',\n",
              " 'heavy',\n",
              " 'technolog',\n",
              " 'push',\n",
              " 'bound',\n",
              " 'what',\n",
              " 'poss',\n",
              " 'adv',\n",
              " 'bring',\n",
              " 'conveny',\n",
              " 'also',\n",
              " 'rais',\n",
              " 'concern',\n",
              " 'priv',\n",
              " 'job',\n",
              " 'displac',\n",
              " 'despit',\n",
              " 'challeng',\n",
              " 'fut',\n",
              " 'technolog',\n",
              " 'look',\n",
              " 'prom',\n",
              " 'ful',\n",
              " 'opportun',\n",
              " 'fascin',\n",
              " 'see',\n",
              " 'deeply',\n",
              " 'tech',\n",
              " 'becom',\n",
              " 'embed',\n",
              " 'everyday',\n",
              " 'liv']"
            ]
          },
          "metadata": {},
          "execution_count": 11
        }
      ]
    },
    {
      "cell_type": "code",
      "source": [
        "#import nltk\n",
        "#nltk.download('wordnet')\n",
        "from nltk.stem import WordNetLemmatizer\n",
        "lem=WordNetLemmatizer()\n",
        "\n",
        "after_lem=[lem.lemmatize(word) for word in text_word_no_stop]\n",
        "after_lem"
      ],
      "metadata": {
        "colab": {
          "base_uri": "https://localhost:8080/"
        },
        "id": "-SUAjt2fDak1",
        "outputId": "dc87395f-7b3c-4df9-fb20-2566058934f9"
      },
      "execution_count": 14,
      "outputs": [
        {
          "output_type": "execute_result",
          "data": {
            "text/plain": [
              "['technology',\n",
              " 'evolving',\n",
              " 'rapid',\n",
              " 'pace',\n",
              " 'transforming',\n",
              " 'way',\n",
              " 'live',\n",
              " 'work',\n",
              " 'communicate',\n",
              " 'artificial',\n",
              " 'intelligence',\n",
              " 'ai',\n",
              " 'machine',\n",
              " 'learning',\n",
              " 'ml',\n",
              " 'forefront',\n",
              " 'innovation',\n",
              " 'powering',\n",
              " 'everything',\n",
              " 'virtual',\n",
              " 'assistant',\n",
              " 'like',\n",
              " 'siri',\n",
              " 'alexa',\n",
              " 'selfdriving',\n",
              " 'car',\n",
              " 'company',\n",
              " 'like',\n",
              " 'google',\n",
              " 'tesla',\n",
              " 'microsoft',\n",
              " 'investing',\n",
              " 'heavily',\n",
              " 'technology',\n",
              " 'push',\n",
              " 'boundary',\n",
              " 'whats',\n",
              " 'possible',\n",
              " 'advancement',\n",
              " 'bring',\n",
              " 'convenience',\n",
              " 'also',\n",
              " 'raise',\n",
              " 'concern',\n",
              " 'privacy',\n",
              " 'job',\n",
              " 'displacement',\n",
              " 'despite',\n",
              " 'challenge',\n",
              " 'future',\n",
              " 'technology',\n",
              " 'look',\n",
              " 'promising',\n",
              " 'full',\n",
              " 'opportunity',\n",
              " 'fascinating',\n",
              " 'see',\n",
              " 'deeply',\n",
              " 'tech',\n",
              " 'become',\n",
              " 'embedded',\n",
              " 'everyday',\n",
              " 'life']"
            ]
          },
          "metadata": {},
          "execution_count": 14
        }
      ]
    },
    {
      "cell_type": "code",
      "source": [
        "#3.\n",
        "import re\n",
        "text='''Technology is evolving at a rapid pace, transforming the way we live, work, and communicate. Artificial Intelligence (AI) and Machine Learning (ML) are now at the forefront of innovation, powering everything from virtual assistants like Siri and Alexa to self-driving cars. Companies like Google, Tesla, and Microsoft are investing heavily in these technologies to push the boundaries of what's possible. While these advancements bring convenience, they also raise concerns about privacy and job displacement. Despite the challenges, the future of technology looks promising and full of opportunities. It's fascinating to see how deeply tech has become embedded in our everyday lives.'''\n",
        "\n",
        "#a.\n",
        "match=re.findall(r'\\b[a-zA-Z]{6,}\\b',text)\n",
        "print('words with more than 5 letters: ')\n",
        "print(match)\n",
        "\n",
        "#b.\n",
        "match=re.findall(r'\\d+',text)\n",
        "print('all numbers in text')\n",
        "print(match)\n",
        "\n",
        "#c.\n",
        "match=re.findall(r'\\b[A-Z][a-zA-Z]+\\b',text)\n",
        "print('all capital letters :')\n",
        "print(match)"
      ],
      "metadata": {
        "colab": {
          "base_uri": "https://localhost:8080/"
        },
        "id": "tmz1Pi8RXBLJ",
        "outputId": "e3715d8d-05ee-42c0-9955-2f80afbd281a"
      },
      "execution_count": 22,
      "outputs": [
        {
          "output_type": "stream",
          "name": "stdout",
          "text": [
            "words with more than 5 letters: \n",
            "['Technology', 'evolving', 'transforming', 'communicate', 'Artificial', 'Intelligence', 'Machine', 'Learning', 'forefront', 'innovation', 'powering', 'everything', 'virtual', 'assistants', 'driving', 'Companies', 'Google', 'Microsoft', 'investing', 'heavily', 'technologies', 'boundaries', 'possible', 'advancements', 'convenience', 'concerns', 'privacy', 'displacement', 'Despite', 'challenges', 'future', 'technology', 'promising', 'opportunities', 'fascinating', 'deeply', 'become', 'embedded', 'everyday']\n",
            "all numbers in text\n",
            "[]\n",
            "all capital letters :\n",
            "['Technology', 'Artificial', 'Intelligence', 'AI', 'Machine', 'Learning', 'ML', 'Siri', 'Alexa', 'Companies', 'Google', 'Tesla', 'Microsoft', 'While', 'Despite', 'It']\n"
          ]
        }
      ]
    },
    {
      "cell_type": "code",
      "source": [
        "letters_only = re.split(r'\\b[^a-zA-Z]+\\b',text)\n",
        "print(letters_only)\n",
        "starting_with_vowels=re.findall(r'\\b[aeiouAEIOU][a-zA-Z]+\\b',text)\n",
        "print(starting_with_vowels)"
      ],
      "metadata": {
        "colab": {
          "base_uri": "https://localhost:8080/"
        },
        "id": "Szalm8GsZ_Cb",
        "outputId": "9de1a4ec-acf6-4c15-9277-518a4adfe1a1"
      },
      "execution_count": 27,
      "outputs": [
        {
          "output_type": "stream",
          "name": "stdout",
          "text": [
            "['Technology', 'is', 'evolving', 'at', 'a', 'rapid', 'pace', 'transforming', 'the', 'way', 'we', 'live', 'work', 'and', 'communicate', 'Artificial', 'Intelligence', 'AI', 'and', 'Machine', 'Learning', 'ML', 'are', 'now', 'at', 'the', 'forefront', 'of', 'innovation', 'powering', 'everything', 'from', 'virtual', 'assistants', 'like', 'Siri', 'and', 'Alexa', 'to', 'self', 'driving', 'cars', 'Companies', 'like', 'Google', 'Tesla', 'and', 'Microsoft', 'are', 'investing', 'heavily', 'in', 'these', 'technologies', 'to', 'push', 'the', 'boundaries', 'of', 'what', 's', 'possible', 'While', 'these', 'advancements', 'bring', 'convenience', 'they', 'also', 'raise', 'concerns', 'about', 'privacy', 'and', 'job', 'displacement', 'Despite', 'the', 'challenges', 'the', 'future', 'of', 'technology', 'looks', 'promising', 'and', 'full', 'of', 'opportunities', 'It', 's', 'fascinating', 'to', 'see', 'how', 'deeply', 'tech', 'has', 'become', 'embedded', 'in', 'our', 'everyday', 'lives.']\n",
            "['is', 'evolving', 'at', 'and', 'Artificial', 'Intelligence', 'AI', 'and', 'are', 'at', 'of', 'innovation', 'everything', 'assistants', 'and', 'Alexa', 'and', 'are', 'investing', 'in', 'of', 'advancements', 'also', 'about', 'and', 'of', 'and', 'of', 'opportunities', 'It', 'embedded', 'in', 'our', 'everyday']\n"
          ]
        }
      ]
    },
    {
      "cell_type": "code",
      "source": [
        "sample_text = \"\"\"\n",
        "John's contact number is +1-202-555-0143 and his email is john.doe@example.com.\n",
        "He registered on 15/04/2023 at exactly 10:30 AM. Visit his portfolio at https://www.johndoe.dev or\n",
        "check out the company site http://example.org for more info.\n",
        "\n",
        "For job opportunities, email careers@example.co.in or reach out to hiring@company123.com.\n",
        "The price of the product was $499.99 before the 25% discount.\n",
        "\n",
        "Use the hashtag #TechTalks2025 or mention us @TechWorldOfficial.\n",
        "The next webinar is scheduled for March 5th, 2025. Only 200 spots left!\n",
        "\n",
        "Also, follow this short link: bit.ly/techwebinar\n",
        "123-456-7890 or +91 9876543210\n",
        "\"\"\"\n"
      ],
      "metadata": {
        "id": "IHTWZI75cuUD"
      },
      "execution_count": 42,
      "outputs": []
    },
    {
      "cell_type": "code",
      "source": [
        "#4.\n",
        "\n",
        "from nltk.tokenize import RegexpTokenizer\n",
        "\n",
        "tokenizer=RegexpTokenizer(r'\\b\\w+(?:\\w+)|\\b\\w+(?:-\\w+)+|\\d+\\.\\d+')\n",
        "tokens=tokenizer.tokenize(sample_text)\n",
        "\n",
        "print(tokens)\n"
      ],
      "metadata": {
        "colab": {
          "base_uri": "https://localhost:8080/"
        },
        "id": "CujxhvfpdBTx",
        "outputId": "67cbd6bd-8c1a-4fd2-ea28-0cb431da482a"
      },
      "execution_count": 43,
      "outputs": [
        {
          "output_type": "stream",
          "name": "stdout",
          "text": [
            "['John', 'contact', 'number', 'is', '1-202-555-0143', 'and', 'his', 'email', 'is', 'john', 'doe', 'example', 'com', 'He', 'registered', 'on', '15', '04', '2023', 'at', 'exactly', '10', '30', 'AM', 'Visit', 'his', 'portfolio', 'at', 'https', 'www', 'johndoe', 'dev', 'or', 'check', 'out', 'the', 'company', 'site', 'http', 'example', 'org', 'for', 'more', 'info', 'For', 'job', 'opportunities', 'email', 'careers', 'example', 'co', 'in', 'or', 'reach', 'out', 'to', 'hiring', 'company123', 'com', 'The', 'price', 'of', 'the', 'product', 'was', '499', '99', 'before', 'the', '25', 'discount', 'Use', 'the', 'hashtag', 'TechTalks2025', 'or', 'mention', 'us', 'TechWorldOfficial', 'The', 'next', 'webinar', 'is', 'scheduled', 'for', 'March', '5th', '2025', 'Only', '200', 'spots', 'left', 'Also', 'follow', 'this', 'short', 'link', 'bit', 'ly', 'techwebinar', '123', '456', '7890', 'or', '91', '9876543210']\n"
          ]
        }
      ]
    },
    {
      "cell_type": "code",
      "source": [
        "#3.\n",
        "#a.\n",
        "pattern=r'\\b[\\w\\.-]+@[\\w\\.-]+\\.\\w{2,}\\b'\n",
        "substituted=re.sub(pattern,'<EMAIL>',sample_text)\n",
        "print(substituted)"
      ],
      "metadata": {
        "colab": {
          "base_uri": "https://localhost:8080/"
        },
        "id": "OGykCuAPhhUG",
        "outputId": "9badba85-46ad-4590-d439-529725ef6fc3"
      },
      "execution_count": 44,
      "outputs": [
        {
          "output_type": "stream",
          "name": "stdout",
          "text": [
            "\n",
            "John's contact number is +1-202-555-0143 and his email is <EMAIL>. \n",
            "He registered on 15/04/2023 at exactly 10:30 AM. Visit his portfolio at https://www.johndoe.dev or \n",
            "check out the company site http://example.org for more info.\n",
            "\n",
            "For job opportunities, email <EMAIL> or reach out to <EMAIL>. \n",
            "The price of the product was $499.99 before the 25% discount.\n",
            "\n",
            "Use the hashtag #TechTalks2025 or mention us @TechWorldOfficial. \n",
            "The next webinar is scheduled for March 5th, 2025. Only 200 spots left!\n",
            "\n",
            "Also, follow this short link: bit.ly/techwebinar\n",
            "123-456-7890 or +91 9876543210\n",
            "\n"
          ]
        }
      ]
    },
    {
      "cell_type": "code",
      "source": [
        "#b.\n",
        "pattern=r'(?:https?:\\/\\/|www\\.)[a-zA-Z0-9-]+\\.[a-zA-Z]{2,}(?:\\.[a-zA-Z]{2,})?(?:\\/[^\\s]*)?'\n",
        "sub=re.sub(pattern,'<URL>',sample_text)\n",
        "print(sub)"
      ],
      "metadata": {
        "colab": {
          "base_uri": "https://localhost:8080/"
        },
        "id": "NPDljmhdjX6C",
        "outputId": "f70133b2-830b-45ff-dad0-0a27f973a79a"
      },
      "execution_count": 45,
      "outputs": [
        {
          "output_type": "stream",
          "name": "stdout",
          "text": [
            "\n",
            "John's contact number is +1-202-555-0143 and his email is john.doe@example.com. \n",
            "He registered on 15/04/2023 at exactly 10:30 AM. Visit his portfolio at <URL> or \n",
            "check out the company site <URL> for more info.\n",
            "\n",
            "For job opportunities, email careers@example.co.in or reach out to hiring@company123.com. \n",
            "The price of the product was $499.99 before the 25% discount.\n",
            "\n",
            "Use the hashtag #TechTalks2025 or mention us @TechWorldOfficial. \n",
            "The next webinar is scheduled for March 5th, 2025. Only 200 spots left!\n",
            "\n",
            "Also, follow this short link: bit.ly/techwebinar\n",
            "123-456-7890 or +91 9876543210\n",
            "\n"
          ]
        }
      ]
    },
    {
      "cell_type": "code",
      "source": [
        "#c.\n",
        "pattern=r'\\+\\d{2}\\s\\d{10}|(?:\\+\\d-)?(?:\\d{3}-\\d{3}-\\d{4})'\n",
        "sub=re.sub(pattern,'<PHONE>',sample_text)\n",
        "print(sub)"
      ],
      "metadata": {
        "colab": {
          "base_uri": "https://localhost:8080/"
        },
        "id": "FArnF54wo5C4",
        "outputId": "b5a2714d-2c9e-4582-983a-3e7dd0434c26"
      },
      "execution_count": 46,
      "outputs": [
        {
          "output_type": "stream",
          "name": "stdout",
          "text": [
            "\n",
            "John's contact number is <PHONE> and his email is john.doe@example.com. \n",
            "He registered on 15/04/2023 at exactly 10:30 AM. Visit his portfolio at https://www.johndoe.dev or \n",
            "check out the company site http://example.org for more info.\n",
            "\n",
            "For job opportunities, email careers@example.co.in or reach out to hiring@company123.com. \n",
            "The price of the product was $499.99 before the 25% discount.\n",
            "\n",
            "Use the hashtag #TechTalks2025 or mention us @TechWorldOfficial. \n",
            "The next webinar is scheduled for March 5th, 2025. Only 200 spots left!\n",
            "\n",
            "Also, follow this short link: bit.ly/techwebinar\n",
            "<PHONE> or <PHONE>\n",
            "\n"
          ]
        }
      ]
    }
  ]
}