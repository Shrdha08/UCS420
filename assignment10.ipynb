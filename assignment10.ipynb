{
  "nbformat": 4,
  "nbformat_minor": 0,
  "metadata": {
    "colab": {
      "provenance": []
    },
    "kernelspec": {
      "name": "python3",
      "display_name": "Python 3"
    },
    "language_info": {
      "name": "python"
    }
  },
  "cells": [
    {
      "cell_type": "code",
      "execution_count": 36,
      "metadata": {
        "id": "gfoHTemP5cIz"
      },
      "outputs": [],
      "source": [
        "import nltk\n",
        "text = \"\"\"Technology has revolutionized the way we live, work, and communicate. From smartphones to artificial intelligence, innovations continue to shape our daily lives. Social media platforms help us stay connected, while cloud computing enables remote work and data storage. However, excessive reliance on technology also raises concerns about privacy and mental health. As we move forward, balancing advancement and well-being is crucial.\"\"\""
      ]
    },
    {
      "cell_type": "code",
      "source": [
        "#1.\n",
        "##1.\n",
        "import re\n",
        "import string\n",
        "pattern=r'[^\\w\\s]'\n",
        "text=re.sub(pattern,' ',text)\n",
        "text=text.lower()\n",
        "print(text)"
      ],
      "metadata": {
        "colab": {
          "base_uri": "https://localhost:8080/"
        },
        "id": "9UiRwQ1g5sDr",
        "outputId": "d3b3e25f-468e-45de-b45d-74fa1dfc22f9"
      },
      "execution_count": 37,
      "outputs": [
        {
          "output_type": "stream",
          "name": "stdout",
          "text": [
            "technology has revolutionized the way we live  work  and communicate  from smartphones to artificial intelligence  innovations continue to shape our daily lives  social media platforms help us stay connected  while cloud computing enables remote work and data storage  however  excessive reliance on technology also raises concerns about privacy and mental health  as we move forward  balancing advancement and well being is crucial \n"
          ]
        }
      ]
    },
    {
      "cell_type": "code",
      "source": [
        "##2,3.\n",
        "#nltk.download('punkt_tab')\n",
        "from nltk.tokenize import word_tokenize,sent_tokenize\n",
        "\n",
        "sent_tokens=sent_tokenize(text)\n",
        "word_tokens=word_tokenize(text)\n",
        "wors_split=text.split()\n",
        "\n",
        "print(sent_tokens)\n",
        "print(word_tokens)\n",
        "print(wors_split)"
      ],
      "metadata": {
        "colab": {
          "base_uri": "https://localhost:8080/"
        },
        "id": "WXrAtx-u-XQ0",
        "outputId": "895dd08c-8384-440d-eb28-1d80b49a6084"
      },
      "execution_count": 38,
      "outputs": [
        {
          "output_type": "stream",
          "name": "stdout",
          "text": [
            "['technology has revolutionized the way we live  work  and communicate  from smartphones to artificial intelligence  innovations continue to shape our daily lives  social media platforms help us stay connected  while cloud computing enables remote work and data storage  however  excessive reliance on technology also raises concerns about privacy and mental health  as we move forward  balancing advancement and well being is crucial']\n",
            "['technology', 'has', 'revolutionized', 'the', 'way', 'we', 'live', 'work', 'and', 'communicate', 'from', 'smartphones', 'to', 'artificial', 'intelligence', 'innovations', 'continue', 'to', 'shape', 'our', 'daily', 'lives', 'social', 'media', 'platforms', 'help', 'us', 'stay', 'connected', 'while', 'cloud', 'computing', 'enables', 'remote', 'work', 'and', 'data', 'storage', 'however', 'excessive', 'reliance', 'on', 'technology', 'also', 'raises', 'concerns', 'about', 'privacy', 'and', 'mental', 'health', 'as', 'we', 'move', 'forward', 'balancing', 'advancement', 'and', 'well', 'being', 'is', 'crucial']\n",
            "['technology', 'has', 'revolutionized', 'the', 'way', 'we', 'live', 'work', 'and', 'communicate', 'from', 'smartphones', 'to', 'artificial', 'intelligence', 'innovations', 'continue', 'to', 'shape', 'our', 'daily', 'lives', 'social', 'media', 'platforms', 'help', 'us', 'stay', 'connected', 'while', 'cloud', 'computing', 'enables', 'remote', 'work', 'and', 'data', 'storage', 'however', 'excessive', 'reliance', 'on', 'technology', 'also', 'raises', 'concerns', 'about', 'privacy', 'and', 'mental', 'health', 'as', 'we', 'move', 'forward', 'balancing', 'advancement', 'and', 'well', 'being', 'is', 'crucial']\n"
          ]
        }
      ]
    },
    {
      "cell_type": "code",
      "source": [
        "##4.\n",
        "#nltk.download('stopwords')\n",
        "from nltk.corpus import stopwords\n",
        "stop_words=set(stopwords.words('english'))\n",
        "tokens=[word for word in word_tokens if word not in stop_words]\n",
        "tokens"
      ],
      "metadata": {
        "colab": {
          "base_uri": "https://localhost:8080/"
        },
        "id": "XiyY_4gE_RAd",
        "outputId": "c8a1307d-48df-410b-f58a-6c465510dd82"
      },
      "execution_count": 41,
      "outputs": [
        {
          "output_type": "execute_result",
          "data": {
            "text/plain": [
              "['technology',\n",
              " 'revolutionized',\n",
              " 'way',\n",
              " 'live',\n",
              " 'work',\n",
              " 'communicate',\n",
              " 'smartphones',\n",
              " 'artificial',\n",
              " 'intelligence',\n",
              " 'innovations',\n",
              " 'continue',\n",
              " 'shape',\n",
              " 'daily',\n",
              " 'lives',\n",
              " 'social',\n",
              " 'media',\n",
              " 'platforms',\n",
              " 'help',\n",
              " 'us',\n",
              " 'stay',\n",
              " 'connected',\n",
              " 'cloud',\n",
              " 'computing',\n",
              " 'enables',\n",
              " 'remote',\n",
              " 'work',\n",
              " 'data',\n",
              " 'storage',\n",
              " 'however',\n",
              " 'excessive',\n",
              " 'reliance',\n",
              " 'technology',\n",
              " 'also',\n",
              " 'raises',\n",
              " 'concerns',\n",
              " 'privacy',\n",
              " 'mental',\n",
              " 'health',\n",
              " 'move',\n",
              " 'forward',\n",
              " 'balancing',\n",
              " 'advancement',\n",
              " 'well',\n",
              " 'crucial']"
            ]
          },
          "metadata": {},
          "execution_count": 41
        }
      ]
    },
    {
      "cell_type": "code",
      "source": [
        "from nltk.probability import FreqDist\n",
        "freq=FreqDist(tokens)\n",
        "freq"
      ],
      "metadata": {
        "colab": {
          "base_uri": "https://localhost:8080/"
        },
        "id": "3ttnYDCPAR6z",
        "outputId": "f54b931a-ee2b-4a12-bf38-ee11e39f5561"
      },
      "execution_count": 42,
      "outputs": [
        {
          "output_type": "execute_result",
          "data": {
            "text/plain": [
              "FreqDist({'technology': 2, 'work': 2, 'revolutionized': 1, 'way': 1, 'live': 1, 'communicate': 1, 'smartphones': 1, 'artificial': 1, 'intelligence': 1, 'innovations': 1, ...})"
            ]
          },
          "metadata": {},
          "execution_count": 42
        }
      ]
    },
    {
      "cell_type": "code",
      "source": [
        "#2.\n",
        "text='''Hello Team,\n",
        "\n",
        "Please contact our support at helpdesk@company123.org or marketing-lead@brand.co.uk.\n",
        "You can also visit https://www.company123.org/contact or follow our updates at www.twitter.com/company_handle.\n",
        "For internal queries, use our intranet: http://intranet.local or shortlink bit.ly/internal-access.\n",
        "\n",
        "The Q4 revenue was $2.3M, and projections for Q1-2025 are expected to rise by 15%.\n",
        "Meeting is scheduled on 03/06/2025 at 10:00 AM in Room #404. Dial-in: +1-800-555-0199.\n",
        "Backup email: j.doe1985@dev-mail.com — in case the main address fails.\n",
        "\n",
        "Regards,\n",
        "John Doe\n",
        "Senior Analyst\n",
        "Phone: (123) 456-7890\n",
        "'''"
      ],
      "metadata": {
        "id": "lrJ3YPA6AaY6"
      },
      "execution_count": 57,
      "outputs": []
    },
    {
      "cell_type": "code",
      "source": [
        "##1.\n",
        "'''text\n",
        "from nltk.tokenize import RegexpTokenizer\n",
        "tokenizer=RegexpTokenizer(r'\\b[a-zA-Z]+')\n",
        "tokens=tokenizer.tokenize(text)\n",
        "tokens'''\n",
        "\n",
        "pattern=r'\\b[a-zA-Z]+[^0-9:\\.\\/,@]\\b'\n",
        "matched=re.findall(pattern,text)\n",
        "matched"
      ],
      "metadata": {
        "colab": {
          "base_uri": "https://localhost:8080/"
        },
        "id": "55cWkxR7Ar1-",
        "outputId": "e0f7a11f-d02f-4966-d218-99b212c382a7"
      },
      "execution_count": 58,
      "outputs": [
        {
          "output_type": "execute_result",
          "data": {
            "text/plain": [
              "['Hello ',\n",
              " 'Team',\n",
              " 'Please ',\n",
              " 'contact ',\n",
              " 'our ',\n",
              " 'support ',\n",
              " 'at ',\n",
              " 'helpdesk',\n",
              " 'org ',\n",
              " 'or ',\n",
              " 'marketing-',\n",
              " 'lead',\n",
              " 'brand',\n",
              " 'co',\n",
              " 'uk',\n",
              " 'You ',\n",
              " 'can ',\n",
              " 'also ',\n",
              " 'visit ',\n",
              " 'https',\n",
              " 'www',\n",
              " 'org',\n",
              " 'contact ',\n",
              " 'or ',\n",
              " 'follow ',\n",
              " 'our ',\n",
              " 'updates ',\n",
              " 'at ',\n",
              " 'www',\n",
              " 'twitter',\n",
              " 'com',\n",
              " 'For ',\n",
              " 'internal ',\n",
              " 'queries',\n",
              " 'use ',\n",
              " 'our ',\n",
              " 'intranet',\n",
              " 'http',\n",
              " 'intranet',\n",
              " 'local ',\n",
              " 'or ',\n",
              " 'shortlink ',\n",
              " 'bit',\n",
              " 'ly',\n",
              " 'internal-',\n",
              " 'access',\n",
              " 'The ',\n",
              " 'revenue ',\n",
              " 'was',\n",
              " 'and ',\n",
              " 'projections ',\n",
              " 'for ',\n",
              " 'are ',\n",
              " 'expected ',\n",
              " 'to ',\n",
              " 'rise ',\n",
              " 'by ',\n",
              " 'Meeting ',\n",
              " 'is ',\n",
              " 'scheduled ',\n",
              " 'on ',\n",
              " 'at ',\n",
              " 'AM ',\n",
              " 'in ',\n",
              " 'Room',\n",
              " 'Dial-',\n",
              " 'in',\n",
              " 'Backup ',\n",
              " 'email',\n",
              " 'dev-',\n",
              " 'mail',\n",
              " 'com',\n",
              " 'in ',\n",
              " 'case ',\n",
              " 'the ',\n",
              " 'main ',\n",
              " 'address ',\n",
              " 'fails',\n",
              " 'Regards',\n",
              " 'John ',\n",
              " 'Doe',\n",
              " 'Senior ',\n",
              " 'Analyst',\n",
              " 'Phone']"
            ]
          },
          "metadata": {},
          "execution_count": 58
        }
      ]
    },
    {
      "cell_type": "code",
      "source": [
        "##2.\n",
        "from nltk.corpus import stopwords\n",
        "stop_words=set(stopwords.words('english'))\n",
        "\n",
        "tokens=[words for words in matched if words not in stop_words]\n",
        "tokens"
      ],
      "metadata": {
        "colab": {
          "base_uri": "https://localhost:8080/"
        },
        "id": "ZxfaO97OEhEd",
        "outputId": "50714728-ed9f-4712-b0ff-1749b7404e95"
      },
      "execution_count": 59,
      "outputs": [
        {
          "output_type": "execute_result",
          "data": {
            "text/plain": [
              "['Hello ',\n",
              " 'Team',\n",
              " 'Please ',\n",
              " 'contact ',\n",
              " 'our ',\n",
              " 'support ',\n",
              " 'at ',\n",
              " 'helpdesk',\n",
              " 'org ',\n",
              " 'or ',\n",
              " 'marketing-',\n",
              " 'lead',\n",
              " 'brand',\n",
              " 'co',\n",
              " 'uk',\n",
              " 'You ',\n",
              " 'can ',\n",
              " 'also ',\n",
              " 'visit ',\n",
              " 'https',\n",
              " 'www',\n",
              " 'org',\n",
              " 'contact ',\n",
              " 'or ',\n",
              " 'follow ',\n",
              " 'our ',\n",
              " 'updates ',\n",
              " 'at ',\n",
              " 'www',\n",
              " 'twitter',\n",
              " 'com',\n",
              " 'For ',\n",
              " 'internal ',\n",
              " 'queries',\n",
              " 'use ',\n",
              " 'our ',\n",
              " 'intranet',\n",
              " 'http',\n",
              " 'intranet',\n",
              " 'local ',\n",
              " 'or ',\n",
              " 'shortlink ',\n",
              " 'bit',\n",
              " 'ly',\n",
              " 'internal-',\n",
              " 'access',\n",
              " 'The ',\n",
              " 'revenue ',\n",
              " 'and ',\n",
              " 'projections ',\n",
              " 'for ',\n",
              " 'are ',\n",
              " 'expected ',\n",
              " 'to ',\n",
              " 'rise ',\n",
              " 'by ',\n",
              " 'Meeting ',\n",
              " 'is ',\n",
              " 'scheduled ',\n",
              " 'on ',\n",
              " 'at ',\n",
              " 'AM ',\n",
              " 'in ',\n",
              " 'Room',\n",
              " 'Dial-',\n",
              " 'Backup ',\n",
              " 'email',\n",
              " 'dev-',\n",
              " 'mail',\n",
              " 'com',\n",
              " 'in ',\n",
              " 'case ',\n",
              " 'the ',\n",
              " 'main ',\n",
              " 'address ',\n",
              " 'fails',\n",
              " 'Regards',\n",
              " 'John ',\n",
              " 'Doe',\n",
              " 'Senior ',\n",
              " 'Analyst',\n",
              " 'Phone']"
            ]
          },
          "metadata": {},
          "execution_count": 59
        }
      ]
    },
    {
      "cell_type": "code",
      "source": [
        "##3.\n",
        "from nltk.stem import PorterStemmer\n",
        "ps=PorterStemmer()\n",
        "\n",
        "stemmed=[ps.stem(word) for word in tokens]\n",
        "print(stemmed)"
      ],
      "metadata": {
        "colab": {
          "base_uri": "https://localhost:8080/"
        },
        "id": "2yAdIGJnOKHo",
        "outputId": "92f6b13c-d8ac-46c9-8b96-3c363be37270"
      },
      "execution_count": 60,
      "outputs": [
        {
          "output_type": "stream",
          "name": "stdout",
          "text": [
            "['hello ', 'team', 'please ', 'contact ', 'our ', 'support ', 'at ', 'helpdesk', 'org ', 'or ', 'marketing-', 'lead', 'brand', 'co', 'uk', 'you ', 'can ', 'also ', 'visit ', 'http', 'www', 'org', 'contact ', 'or ', 'follow ', 'our ', 'updates ', 'at ', 'www', 'twitter', 'com', 'for ', 'internal ', 'queri', 'use ', 'our ', 'intranet', 'http', 'intranet', 'local ', 'or ', 'shortlink ', 'bit', 'ly', 'internal-', 'access', 'the ', 'revenue ', 'and ', 'projections ', 'for ', 'are ', 'expected ', 'to ', 'rise ', 'by ', 'meeting ', 'is ', 'scheduled ', 'on ', 'at ', 'am ', 'in ', 'room', 'dial-', 'backup ', 'email', 'dev-', 'mail', 'com', 'in ', 'case ', 'the ', 'main ', 'address ', 'fail', 'regard', 'john ', 'doe', 'senior ', 'analyst', 'phone']\n"
          ]
        }
      ]
    },
    {
      "cell_type": "code",
      "source": [
        "##4.\n",
        "nltk.download('wordnet')\n",
        "from nltk.stem import WordNetLemmatizer\n",
        "lemmatizer=WordNetLemmatizer()\n",
        "lemmatized=[lemmatizer.lemmatize(word) for word in tokens]\n",
        "print(lemmatized)"
      ],
      "metadata": {
        "colab": {
          "base_uri": "https://localhost:8080/"
        },
        "id": "SJSM3R8uOaQe",
        "outputId": "22c6f03c-6da6-4e73-9c2d-2878ba27cf87"
      },
      "execution_count": 61,
      "outputs": [
        {
          "output_type": "stream",
          "name": "stdout",
          "text": [
            "['Hello ', 'Team', 'Please ', 'contact ', 'our ', 'support ', 'at ', 'helpdesk', 'org ', 'or ', 'marketing-', 'lead', 'brand', 'co', 'uk', 'You ', 'can ', 'also ', 'visit ', 'http', 'www', 'org', 'contact ', 'or ', 'follow ', 'our ', 'updates ', 'at ', 'www', 'twitter', 'com', 'For ', 'internal ', 'query', 'use ', 'our ', 'intranet', 'http', 'intranet', 'local ', 'or ', 'shortlink ', 'bit', 'ly', 'internal-', 'access', 'The ', 'revenue ', 'and ', 'projections ', 'for ', 'are ', 'expected ', 'to ', 'rise ', 'by ', 'Meeting ', 'is ', 'scheduled ', 'on ', 'at ', 'AM ', 'in ', 'Room', 'Dial-', 'Backup ', 'email', 'dev-', 'mail', 'com', 'in ', 'case ', 'the ', 'main ', 'address ', 'fails', 'Regards', 'John ', 'Doe', 'Senior ', 'Analyst', 'Phone']\n"
          ]
        },
        {
          "output_type": "stream",
          "name": "stderr",
          "text": [
            "[nltk_data] Downloading package wordnet to /root/nltk_data...\n",
            "[nltk_data]   Package wordnet is already up-to-date!\n"
          ]
        }
      ]
    },
    {
      "cell_type": "code",
      "source": [
        "##5.\n",
        "ans='''out of the stemmed and lemmatized ouputs ,I would prefer the lemmatized version.The reasons are listed below:\n",
        "1.Stemming chops words based on suffixes , whereas lemmatization works on dictionary forms and context\n",
        "2.Stemming is rule based whereas lemmatization uses vocabulary , pos tagging and context.\n",
        "3.Words are stemming may or may not have real meaning , whereas lematization returns words with real meaning.'''"
      ],
      "metadata": {
        "id": "SO74JbiAQBTD"
      },
      "execution_count": 62,
      "outputs": []
    },
    {
      "cell_type": "code",
      "source": [
        "#3.\n",
        "##1.\n",
        "text1=\"The laptop is fast and lightweight, perfect for travel.\"\n",
        "text2=\"Battery life is impressive, but the screen brightness could be better.\"\n",
        "text3=\"I love the sleek design, though the keyboard feels a bit stiff.\"\n",
        "text=[text1,text2,text3]\n",
        "from sklearn.feature_extraction.text import CountVectorizer\n",
        "vectorizer=CountVectorizer()\n",
        "vector=vectorizer.fit_transform(text)\n",
        "\n",
        "print('vocabulary:\\n',vectorizer.get_feature_names_out())\n",
        "print('bag of words:\\n',vector.toarray())"
      ],
      "metadata": {
        "colab": {
          "base_uri": "https://localhost:8080/"
        },
        "id": "8Z3nfr9ZQ5AP",
        "outputId": "aec52977-beeb-4807-f760-ec49455ce761"
      },
      "execution_count": 7,
      "outputs": [
        {
          "output_type": "stream",
          "name": "stdout",
          "text": [
            "vocabulary:\n",
            " ['and' 'battery' 'be' 'better' 'bit' 'brightness' 'but' 'could' 'design'\n",
            " 'fast' 'feels' 'for' 'impressive' 'is' 'keyboard' 'laptop' 'life'\n",
            " 'lightweight' 'love' 'perfect' 'screen' 'sleek' 'stiff' 'the' 'though'\n",
            " 'travel']\n",
            "bag of words:\n",
            " [[1 0 0 0 0 0 0 0 0 1 0 1 0 1 0 1 0 1 0 1 0 0 0 1 0 1]\n",
            " [0 1 1 1 0 1 1 1 0 0 0 0 1 1 0 0 1 0 0 0 1 0 0 1 0 0]\n",
            " [0 0 0 0 1 0 0 0 1 0 1 0 0 0 1 0 0 0 1 0 0 1 1 2 1 0]]\n"
          ]
        }
      ]
    },
    {
      "cell_type": "code",
      "source": [
        "##2.\n",
        "#TF-IDF = TF(how many times term appears in doc) × log(N / df)(idf - how rare the term is in docs)\n",
        "#N-total docs\n",
        "#df-#docs containing the word\n",
        "from sklearn.feature_extraction.text import TfidfVectorizer\n",
        "\n",
        "corpus = [\"machine learning is amazing\", \"I love machine learning\", \"learning is fun\"]\n",
        "tfidf = TfidfVectorizer()\n",
        "X = tfidf.fit_transform(corpus)\n",
        "\n",
        "print(\"Vocabulary:\", tfidf.get_feature_names_out())\n",
        "print(\"TF-IDF Matrix:\\n\", X.toarray())\n"
      ],
      "metadata": {
        "colab": {
          "base_uri": "https://localhost:8080/"
        },
        "id": "vC1k-wqygbo7",
        "outputId": "bccc7b99-a191-4a40-9aab-1acf695e684b"
      },
      "execution_count": 8,
      "outputs": [
        {
          "output_type": "stream",
          "name": "stdout",
          "text": [
            "Vocabulary: ['amazing' 'fun' 'is' 'learning' 'love' 'machine']\n",
            "TF-IDF Matrix:\n",
            " [[0.63174505 0.         0.4804584  0.37311881 0.         0.4804584 ]\n",
            " [0.         0.         0.         0.42544054 0.72033345 0.54783215]\n",
            " [0.         0.72033345 0.54783215 0.42544054 0.         0.        ]]\n"
          ]
        }
      ]
    },
    {
      "cell_type": "code",
      "source": [
        "#4.\n",
        "ai='''Artificial Intelligence enables machines to mimic human thinking.\n",
        "It is widely used in automation, natural language processing, and robotics.\n",
        "AI systems learn from data and improve over time through training.\n",
        "Applications include virtual assistants, self-driving cars, and fraud detection.'''\n",
        "\n",
        "blockchain='''Blockchain is a decentralized digital ledger technology.\n",
        "It records transactions securely across multiple systems without a central authority.\n",
        "Used in cryptocurrencies, it ensures transparency and tamper resistance.\n",
        "Blockchain is gaining attention in finance, supply chains, and digital identity.'''"
      ],
      "metadata": {
        "id": "32bmOzwjnkE5"
      },
      "execution_count": 10,
      "outputs": []
    },
    {
      "cell_type": "code",
      "source": [
        "##1.\n",
        "'''preprocessing - lowercase -> remove punctuation -> tokenize -> stopword removal'''\n",
        "import re\n",
        "import nltk\n",
        "nltk.download('punkt_tab')\n",
        "nltk.download('stopwords')\n",
        "from nltk.tokenize import word_tokenize\n",
        "#convert to lowercase\n",
        "ai=ai.lower()\n",
        "blockchain=blockchain.lower()\n",
        "\n",
        "#remove punctuation\n",
        "ai=re.sub(r'\\b[^\\w\\s]',\" \",ai)\n",
        "ai=re.sub(r'\\s+',\" \",ai).strip()\n",
        "blockchain=re.sub(r'\\b[^\\w\\s]',\" \",blockchain)\n",
        "blockchain=re.sub(r'\\s+',' ',blockchain).strip()\n",
        "\n",
        "#tokenize\n",
        "ai_tokens=word_tokenize(ai)\n",
        "blockchain_tokens=word_tokenize(blockchain)\n",
        "\n",
        "#remove stopwords\n",
        "from nltk.corpus import stopwords\n",
        "stop_words=set(stopwords.words('english'))\n",
        "ai_tokens=[word for word in ai_tokens if word not in stop_words]\n",
        "blockchain_tokens=[word for word in blockchain_tokens if word not in stop_words]\n",
        "\n",
        "print(ai_tokens)\n",
        "print(blockchain_tokens)"
      ],
      "metadata": {
        "colab": {
          "base_uri": "https://localhost:8080/"
        },
        "id": "AwDw2vK5oSoP",
        "outputId": "6b32bfc4-494b-44ab-9c45-05f40ad4d17e"
      },
      "execution_count": 14,
      "outputs": [
        {
          "output_type": "stream",
          "name": "stdout",
          "text": [
            "['artificial', 'intelligence', 'enables', 'machines', 'mimic', 'human', 'thinking', 'widely', 'used', 'automation', 'natural', 'language', 'processing', 'robotics', 'ai', 'systems', 'learn', 'data', 'improve', 'time', 'training', 'applications', 'include', 'virtual', 'assistants', 'self', 'driving', 'cars', 'fraud', 'detection']\n",
            "['blockchain', 'decentralized', 'digital', 'ledger', 'technology', 'records', 'transactions', 'securely', 'across', 'multiple', 'systems', 'without', 'central', 'authority', 'used', 'cryptocurrencies', 'ensures', 'transparency', 'tamper', 'resistance', 'blockchain', 'gaining', 'attention', 'finance', 'supply', 'chains', 'digital', 'identity']\n"
          ]
        },
        {
          "output_type": "stream",
          "name": "stderr",
          "text": [
            "[nltk_data] Downloading package punkt_tab to /root/nltk_data...\n",
            "[nltk_data]   Package punkt_tab is already up-to-date!\n",
            "[nltk_data] Downloading package stopwords to /root/nltk_data...\n",
            "[nltk_data]   Unzipping corpora/stopwords.zip.\n"
          ]
        }
      ]
    },
    {
      "cell_type": "code",
      "source": [
        "##2.\n",
        "#a.jaccard similarity\n",
        "text1=set(ai_tokens)\n",
        "text2=set(blockchain_tokens)\n",
        "\n",
        "intersection=text1&text2\n",
        "union=text1|text2\n",
        "jaccard=len(intersection)/len(union)\n",
        "print(jaccard)"
      ],
      "metadata": {
        "colab": {
          "base_uri": "https://localhost:8080/"
        },
        "id": "Go-egVqfqQvi",
        "outputId": "17a5d34c-907e-4e9c-af2e-c93000f33355"
      },
      "execution_count": 15,
      "outputs": [
        {
          "output_type": "stream",
          "name": "stdout",
          "text": [
            "0.037037037037037035\n"
          ]
        }
      ]
    },
    {
      "cell_type": "code",
      "source": [
        "from sklearn.feature_extraction.text import TfidfVectorizer\n",
        "vectorizer=TfidfVectorizer()\n",
        "vector=vectorizer.fit_transform([ai,blockchain])\n",
        "\n",
        "from sklearn.metrics.pairwise import cosine_similarity\n",
        "similarity=cosine_similarity(vector[0:1],vector[1:2])\n",
        "print(similarity)"
      ],
      "metadata": {
        "colab": {
          "base_uri": "https://localhost:8080/"
        },
        "id": "x4jSe_Ejqrij",
        "outputId": "9339d1d4-ec87-476b-f51e-90cdb8b47b99"
      },
      "execution_count": 17,
      "outputs": [
        {
          "output_type": "stream",
          "name": "stdout",
          "text": [
            "[[0.18126428]]\n"
          ]
        }
      ]
    },
    {
      "cell_type": "code",
      "source": [
        "from textblob import TextBlob\n",
        "from wordcloud import WordCloud\n",
        "import matplotlib.pyplot as plt\n",
        "\n",
        "review = \"The new smartphone has an amazing camera and battery life, but the software is buggy.\"\n",
        "\n",
        "blob = TextBlob(review)\n",
        "polarity = blob.sentiment.polarity\n",
        "subjectivity = blob.sentiment.subjectivity\n",
        "\n",
        "print(f\"Polarity: {polarity}, Subjectivity: {subjectivity}\")\n",
        "\n",
        "if polarity > 0:\n",
        "    sentiment = \"Positive\"\n",
        "elif polarity < 0:\n",
        "    sentiment = \"Negative\"\n",
        "else:\n",
        "    sentiment = \"Neutral\"\n",
        "\n",
        "print(\"Sentiment:\", sentiment)\n",
        "\n",
        "if sentiment == \"Positive\":\n",
        "    wordcloud = WordCloud(background_color=\"white\").generate(review)\n",
        "    plt.imshow(wordcloud, interpolation='bilinear')\n",
        "    plt.axis(\"off\")\n",
        "    plt.title(\"Positive Review Word Cloud\")\n",
        "    plt.show()\n"
      ],
      "metadata": {
        "colab": {
          "base_uri": "https://localhost:8080/",
          "height": 343
        },
        "id": "FSq9IYnfVWW4",
        "outputId": "d0c43f01-cbf2-4ce8-b7d5-413f2d9beea4"
      },
      "execution_count": 18,
      "outputs": [
        {
          "output_type": "stream",
          "name": "stdout",
          "text": [
            "Polarity: 0.3681818181818182, Subjectivity: 0.6772727272727272\n",
            "Sentiment: Positive\n"
          ]
        },
        {
          "output_type": "display_data",
          "data": {
            "text/plain": [
              "<Figure size 640x480 with 1 Axes>"
            ],
            "image/png": "[encoded data removed]"
          },
          "metadata": {}
        }
      ]
    },
    {
      "cell_type": "code",
      "source": [
        "from tensorflow.keras.preprocessing.text import Tokenizer\n",
        "from tensorflow.keras.preprocessing.sequence import pad_sequences\n",
        "from tensorflow.keras.models import Sequential\n",
        "from tensorflow.keras.layers import Embedding, LSTM, Dense\n",
        "\n",
        "import numpy as np\n",
        "\n",
        "text = \"\"\"Natural language processing is an exciting field of artificial intelligence.\n",
        "It allows computers to understand and generate human language.\n",
        "With enough training data, machines can learn to write, translate, and converse.\n",
        "Applications of NLP include chatbots, translators, and sentiment analysis.\"\"\"\n",
        "\n",
        "tokenizer = Tokenizer()\n",
        "tokenizer.fit_on_texts([text])\n",
        "word_index = tokenizer.word_index\n",
        "total_words = len(word_index) + 1\n",
        "\n",
        "input_sequences = []\n",
        "for line in text.split(\".\"):\n",
        "    token_list = tokenizer.texts_to_sequences([line])[0]\n",
        "    for i in range(1, len(token_list)):\n",
        "        n_gram_sequence = token_list[:i+1]\n",
        "        input_sequences.append(n_gram_sequence)\n",
        "\n",
        "max_len = max(len(seq) for seq in input_sequences)\n",
        "input_sequences = pad_sequences(input_sequences, maxlen=max_len, padding='pre')\n",
        "\n",
        "X = input_sequences[:, :-1]\n",
        "y = input_sequences[:, -1]\n",
        "y = np.array(y)\n",
        "\n",
        "model = Sequential()\n",
        "model.add(Embedding(total_words, 10, input_length=max_len - 1))\n",
        "model.add(LSTM(100))\n",
        "model.add(Dense(total_words, activation='softmax'))\n",
        "model.compile(loss='sparse_categorical_crossentropy', optimizer='adam', metrics=['accuracy'])\n",
        "\n",
        "model.fit(X, y, epochs=200, verbose=0)\n",
        "\n",
        "seed_text = \"language\"\n",
        "next_words = 3\n",
        "\n",
        "for _ in range(next_words):\n",
        "    token_list = tokenizer.texts_to_sequences([seed_text])[0]\n",
        "    token_list = pad_sequences([token_list], maxlen=max_len - 1, padding='pre')\n",
        "    predicted = np.argmax(model.predict(token_list, verbose=0), axis=-1)\n",
        "    output_word = \"\"\n",
        "    for word, index in tokenizer.word_index.items():\n",
        "        if index == predicted:\n",
        "            output_word = word\n",
        "            break\n",
        "    seed_text += \" \" + output_word\n",
        "\n",
        "print(\"Generated Text:\", seed_text)\n"
      ],
      "metadata": {
        "colab": {
          "base_uri": "https://localhost:8080/"
        },
        "id": "CcCvyl1oWEVU",
        "outputId": "f3173523-3c16-4232-ca5f-a966f57a91d6"
      },
      "execution_count": 21,
      "outputs": [
        {
          "output_type": "stream",
          "name": "stdout",
          "text": [
            "Generated Text: language processing processing processing\n"
          ]
        }
      ]
    }
  ]
}