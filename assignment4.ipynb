{
 "cells": [
  {
   "cell_type": "code",
   "execution_count": 9,
   "id": "715ee717-63cc-4d47-a09e-07c1a526aae8",
   "metadata": {},
   "outputs": [],
   "source": [
    "import numpy as np"
   ]
  },
  {
   "cell_type": "markdown",
   "id": "d953e456-3341-4586-926c-b48a4023e908",
   "metadata": {},
   "source": [
    "Q.1 Write a program to create a NumPy 1D-array with 5 elements and perform basic\n",
    "operations like:"
   ]
  },
  {
   "cell_type": "code",
   "execution_count": 12,
   "id": "c0013c59-142a-46c9-94e9-b5c84331ede9",
   "metadata": {},
   "outputs": [],
   "source": [
    "arr=np.array([1,2,3,4,5])"
   ]
  },
  {
   "cell_type": "markdown",
   "id": "0b9ce85c-d11d-426b-affe-8de7d40f89f7",
   "metadata": {},
   "source": [
    "a) Addition of 2 in all the element"
   ]
  },
  {
   "cell_type": "code",
   "execution_count": 15,
   "id": "8e81dbcc-c1c9-427a-a92a-f6859ad5637c",
   "metadata": {},
   "outputs": [],
   "source": [
    "add=arr+2 #not in place , returns new array"
   ]
  },
  {
   "cell_type": "code",
   "execution_count": 17,
   "id": "7b49a71c-2815-40a4-b95c-2db228019dfb",
   "metadata": {},
   "outputs": [
    {
     "data": {
      "text/plain": [
       "array([3, 4, 5, 6, 7])"
      ]
     },
     "execution_count": 17,
     "metadata": {},
     "output_type": "execute_result"
    }
   ],
   "source": [
    "add"
   ]
  },
  {
   "cell_type": "markdown",
   "id": "215753ad-72eb-425a-a133-94820e751f73",
   "metadata": {},
   "source": [
    "b) Multiply 3 with all the elements"
   ]
  },
  {
   "cell_type": "code",
   "execution_count": 20,
   "id": "52caebe1-8505-4a16-a7b4-f0ea2de1199f",
   "metadata": {},
   "outputs": [],
   "source": [
    "mlty=arr*3"
   ]
  },
  {
   "cell_type": "code",
   "execution_count": 22,
   "id": "b2542599-b17f-401e-b6d1-bf207251f698",
   "metadata": {},
   "outputs": [
    {
     "data": {
      "text/plain": [
       "array([ 3,  6,  9, 12, 15])"
      ]
     },
     "execution_count": 22,
     "metadata": {},
     "output_type": "execute_result"
    }
   ],
   "source": [
    "mlty"
   ]
  },
  {
   "cell_type": "markdown",
   "id": "8e25787f-7af0-48bb-8b84-06ddabfecf86",
   "metadata": {},
   "source": [
    "c) Divide every element by 2"
   ]
  },
  {
   "cell_type": "code",
   "execution_count": 25,
   "id": "b759224a-db47-4c6b-b226-875416c6079f",
   "metadata": {},
   "outputs": [
    {
     "data": {
      "text/plain": [
       "array([0.5, 1. , 1.5, 2. , 2.5])"
      ]
     },
     "execution_count": 25,
     "metadata": {},
     "output_type": "execute_result"
    }
   ],
   "source": [
    "div=arr/2\n",
    "div"
   ]
  },
  {
   "cell_type": "markdown",
   "id": "9093b642-3b04-4554-b4cd-228dc7ea29ed",
   "metadata": {},
   "source": [
    "Q.2 Questions on Basic NumPy Array:"
   ]
  },
  {
   "cell_type": "markdown",
   "id": "2768177b-2f59-42a2-acc8-fabe12e8fe25",
   "metadata": {},
   "source": [
    "a) Reverse the NumPy array: arr = np.array([1, 2, 3, 6, 4, 5])"
   ]
  },
  {
   "cell_type": "code",
   "execution_count": 188,
   "id": "e45161bd-ac65-4a38-92e5-e0ea13f2eec6",
   "metadata": {},
   "outputs": [
    {
     "data": {
      "text/plain": [
       "array([[70, 80, 90],\n",
       "       [40, 50, 60],\n",
       "       [10, 20, 30]])"
      ]
     },
     "execution_count": 188,
     "metadata": {},
     "output_type": "execute_result"
    }
   ],
   "source": [
    "np.flip(arr,axis=0)"
   ]
  },
  {
   "cell_type": "markdown",
   "id": "63db33a4-6853-4c6a-bd54-5925a7ca14b7",
   "metadata": {},
   "source": [
    "b) Find the most frequent value and their indice(s) in the following arrays:"
   ]
  },
  {
   "cell_type": "code",
   "execution_count": 191,
   "id": "36272305-364a-4b46-8e5d-59e7dae2cd97",
   "metadata": {},
   "outputs": [],
   "source": [
    "x=np.array([1,2,3,4,5,1,2,1,1,1])"
   ]
  },
  {
   "cell_type": "markdown",
   "id": "cc9ff591-cdd6-4cc9-b728-7ada6a2301ac",
   "metadata": {},
   "source": [
    "i. x = np.array([1,2,3,4,5,1,2,1,1,1])"
   ]
  },
  {
   "cell_type": "code",
   "execution_count": 40,
   "id": "1a832159-3a26-4424-9578-b140672289ec",
   "metadata": {},
   "outputs": [
    {
     "name": "stdout",
     "output_type": "stream",
     "text": [
      "maximum element in x array :  1\n"
     ]
    }
   ],
   "source": [
    "print(\"maximum element in x array : \",np.bincount(x).argmax())"
   ]
  },
  {
   "cell_type": "markdown",
   "id": "42020853-0ab1-4c55-8c8f-86cb36b2c48d",
   "metadata": {},
   "source": [
    "ii. y = np.array([1, 1, 1, 2, 3, 4, 2, 4, 3, 3, ])"
   ]
  },
  {
   "cell_type": "code",
   "execution_count": 43,
   "id": "2f2b7d02-6141-440d-baea-2bacd178b0f8",
   "metadata": {},
   "outputs": [
    {
     "name": "stdout",
     "output_type": "stream",
     "text": [
      "maximum element in y array :  1\n"
     ]
    }
   ],
   "source": [
    "y=np.array([1,1,1,2,3,4,2,4,3,3])\n",
    "print(\"maximum element in y array : \",np.bincount(y).argmax())"
   ]
  },
  {
   "cell_type": "markdown",
   "id": "53b98216-4edf-4e90-b35d-fb18e7b0b305",
   "metadata": {},
   "source": [
    "Q.3 For the given 2-D array arr=np.array([10, 20, 30], [40, 50, 60], [70, 80, 90]), access\n",
    "elements using row and column indices as follows:"
   ]
  },
  {
   "cell_type": "code",
   "execution_count": 46,
   "id": "0aa18445-b238-410c-bd91-25326b94c331",
   "metadata": {},
   "outputs": [
    {
     "data": {
      "text/plain": [
       "array([[10, 20, 30],\n",
       "       [40, 50, 60],\n",
       "       [70, 80, 90]])"
      ]
     },
     "execution_count": 46,
     "metadata": {},
     "output_type": "execute_result"
    }
   ],
   "source": [
    "arr=np.array([[10,20,30],[40,50,60],[70,80,90]])\n",
    "arr"
   ]
  },
  {
   "cell_type": "markdown",
   "id": "37ea8e2c-14a1-47c8-a3c7-8fa13b6fd424",
   "metadata": {},
   "source": [
    "a) Access 1st row, 2nd column"
   ]
  },
  {
   "cell_type": "code",
   "execution_count": 49,
   "id": "e8714001-f69a-47cd-a834-c830a85fc33d",
   "metadata": {},
   "outputs": [
    {
     "data": {
      "text/plain": [
       "20"
      ]
     },
     "execution_count": 49,
     "metadata": {},
     "output_type": "execute_result"
    }
   ],
   "source": [
    "arr[0][1]"
   ]
  },
  {
   "cell_type": "markdown",
   "id": "ad070fb6-95c2-48d8-b3af-8e36581fb67a",
   "metadata": {},
   "source": [
    "b) Access 3rd row, 1st column"
   ]
  },
  {
   "cell_type": "code",
   "execution_count": 52,
   "id": "ce81d588-901c-4754-87c4-40a2133f12ff",
   "metadata": {},
   "outputs": [
    {
     "data": {
      "text/plain": [
       "70"
      ]
     },
     "execution_count": 52,
     "metadata": {},
     "output_type": "execute_result"
    }
   ],
   "source": [
    "arr[2][0]"
   ]
  },
  {
   "cell_type": "markdown",
   "id": "94755e52-31d8-4363-97b2-0676e2da688c",
   "metadata": {},
   "source": [
    "Q.4 Write program to create an 1-D NumPy array named <<Your Name>> with evenly\n",
    "spaced 25 numbers from 10 to 100 using linspace(). Print the dimensions of the array,\n",
    "shape, total elements, the data type of each element and total number of bytes consumed\n",
    "by the array. Find the transpose of this array using reshape() attribute. Can we do the same\n",
    "with T attribute?"
   ]
  },
  {
   "cell_type": "code",
   "execution_count": 77,
   "id": "26e46b89-5d2c-4751-8ef3-d47f0d871a41",
   "metadata": {},
   "outputs": [
    {
     "data": {
      "text/plain": [
       "array([ 10.  ,  13.75,  17.5 ,  21.25,  25.  ,  28.75,  32.5 ,  36.25,\n",
       "        40.  ,  43.75,  47.5 ,  51.25,  55.  ,  58.75,  62.5 ,  66.25,\n",
       "        70.  ,  73.75,  77.5 ,  81.25,  85.  ,  88.75,  92.5 ,  96.25,\n",
       "       100.  ])"
      ]
     },
     "execution_count": 77,
     "metadata": {},
     "output_type": "execute_result"
    }
   ],
   "source": [
    "shrdha=np.array(np.linspace(10,100,num=25))\n",
    "shrdha"
   ]
  },
  {
   "cell_type": "code",
   "execution_count": 79,
   "id": "8b95089a-2f5f-4cb3-992c-dbba3a38fb65",
   "metadata": {},
   "outputs": [
    {
     "name": "stdout",
     "output_type": "stream",
     "text": [
      "dimension of array : 1\n"
     ]
    }
   ],
   "source": [
    "print(\"dimension of array :\",shrdha.ndim)"
   ]
  },
  {
   "cell_type": "code",
   "execution_count": 81,
   "id": "4b6800a3-e3e3-46d3-a907-c7a43ce48400",
   "metadata": {},
   "outputs": [
    {
     "name": "stdout",
     "output_type": "stream",
     "text": [
      "shape of array: (25,)\n"
     ]
    }
   ],
   "source": [
    "print(\"shape of array:\",shrdha.shape)"
   ]
  },
  {
   "cell_type": "code",
   "execution_count": 83,
   "id": "4328f954-6a7f-45ba-8691-8f0e51d85a13",
   "metadata": {},
   "outputs": [
    {
     "name": "stdout",
     "output_type": "stream",
     "text": [
      "total number of elements : 25\n"
     ]
    }
   ],
   "source": [
    "print(\"total number of elements :\",np.size(shrdha))"
   ]
  },
  {
   "cell_type": "code",
   "execution_count": 85,
   "id": "e51e977b-cb52-436a-b3bb-bc13eb38a794",
   "metadata": {},
   "outputs": [
    {
     "name": "stdout",
     "output_type": "stream",
     "text": [
      "data type of array elements : float64\n"
     ]
    }
   ],
   "source": [
    "print(\"data type of array elements :\",shrdha.dtype)"
   ]
  },
  {
   "cell_type": "code",
   "execution_count": 87,
   "id": "6c6ef167-6642-4b62-9fb5-0371b906ac4d",
   "metadata": {},
   "outputs": [
    {
     "name": "stdout",
     "output_type": "stream",
     "text": [
      "total bytes of array : 200\n"
     ]
    }
   ],
   "source": [
    "print(\"total bytes of array :\",shrdha.nbytes)"
   ]
  },
  {
   "cell_type": "code",
   "execution_count": 110,
   "id": "e42f7e34-a667-4602-afd8-137b104ea318",
   "metadata": {},
   "outputs": [
    {
     "data": {
      "text/plain": [
       "array([[ 10.  ],\n",
       "       [ 13.75],\n",
       "       [ 17.5 ],\n",
       "       [ 21.25],\n",
       "       [ 25.  ],\n",
       "       [ 28.75],\n",
       "       [ 32.5 ],\n",
       "       [ 36.25],\n",
       "       [ 40.  ],\n",
       "       [ 43.75],\n",
       "       [ 47.5 ],\n",
       "       [ 51.25],\n",
       "       [ 55.  ],\n",
       "       [ 58.75],\n",
       "       [ 62.5 ],\n",
       "       [ 66.25],\n",
       "       [ 70.  ],\n",
       "       [ 73.75],\n",
       "       [ 77.5 ],\n",
       "       [ 81.25],\n",
       "       [ 85.  ],\n",
       "       [ 88.75],\n",
       "       [ 92.5 ],\n",
       "       [ 96.25],\n",
       "       [100.  ]])"
      ]
     },
     "execution_count": 110,
     "metadata": {},
     "output_type": "execute_result"
    }
   ],
   "source": [
    "shrdha.reshape(25,1)"
   ]
  },
  {
   "cell_type": "code",
   "execution_count": 112,
   "id": "2d78e5b0-41cb-40b0-ba11-79752e614bef",
   "metadata": {},
   "outputs": [
    {
     "name": "stdout",
     "output_type": "stream",
     "text": [
      "before transpose :\n",
      "[ 10.    13.75  17.5   21.25  25.    28.75  32.5   36.25  40.    43.75\n",
      "  47.5   51.25  55.    58.75  62.5   66.25  70.    73.75  77.5   81.25\n",
      "  85.    88.75  92.5   96.25 100.  ]\n",
      "transposed array :\n",
      "[ 10.    13.75  17.5   21.25  25.    28.75  32.5   36.25  40.    43.75\n",
      "  47.5   51.25  55.    58.75  62.5   66.25  70.    73.75  77.5   81.25\n",
      "  85.    88.75  92.5   96.25 100.  ]\n"
     ]
    }
   ],
   "source": [
    "print(\"before transpose :\")\n",
    "print(shrdha)\n",
    "print(\"transposed array :\")\n",
    "print(shrdha.T) #.T has no effect for 1D array"
   ]
  },
  {
   "cell_type": "markdown",
   "id": "010147d0-9b93-44f6-bb06-22c8dffd7101",
   "metadata": {},
   "source": [
    "Q5. Create a 2-D Array of three rows and four columns, named ucs420_shraddha>\n",
    "with following values – 10, 20, 30, 40, 50, 60, 70, 80, 90, 15, 20, 35. Compute the mean,\n",
    "median, max, min, unique elements. Reshape the array to four rows and three columns and\n",
    "name it as reshaped_ ucs420_shraddha>. Resize the array to two rows and three\n",
    "columns and name it as resized_ ucs420_shraddha>."
   ]
  },
  {
   "cell_type": "code",
   "execution_count": 122,
   "id": "649e858d-59a7-4585-b739-6fac22e04466",
   "metadata": {},
   "outputs": [
    {
     "data": {
      "text/plain": [
       "array([[10, 20, 30, 40],\n",
       "       [50, 60, 70, 80],\n",
       "       [90, 15, 20, 35]])"
      ]
     },
     "execution_count": 122,
     "metadata": {},
     "output_type": "execute_result"
    }
   ],
   "source": [
    "ucs420_shraddha=np.array([[10,20,30,40],[50,60,70,80],[90,15,20,35]])\n",
    "ucs420_shraddha"
   ]
  },
  {
   "cell_type": "code",
   "execution_count": 178,
   "id": "b518540e-f5a3-4c76-841b-1600c0659fd4",
   "metadata": {},
   "outputs": [
    {
     "name": "stdout",
     "output_type": "stream",
     "text": [
      "mean of array : 43.333333333333336\n"
     ]
    }
   ],
   "source": [
    "mean=np.mean(ucs420_shraddha)\n",
    "print(\"mean of array :\",mean)"
   ]
  },
  {
   "cell_type": "code",
   "execution_count": 180,
   "id": "39780ba9-c2b8-4e77-b731-8fe408fb2edc",
   "metadata": {},
   "outputs": [
    {
     "name": "stdout",
     "output_type": "stream",
     "text": [
      "median of array : 37.5\n"
     ]
    }
   ],
   "source": [
    "median=np.median(ucs420_shraddha)\n",
    "print(\"median of array :\",median)"
   ]
  },
  {
   "cell_type": "code",
   "execution_count": 182,
   "id": "32005e4f-93a0-4a67-ada0-14905839703c",
   "metadata": {},
   "outputs": [
    {
     "name": "stdout",
     "output_type": "stream",
     "text": [
      "[10 15 20 30 35 40 50 60 70 80 90]\n"
     ]
    }
   ],
   "source": [
    "unique_elements=np.unique(ucs420_shraddha)\n",
    "print(unique_elements)"
   ]
  },
  {
   "cell_type": "code",
   "execution_count": 156,
   "id": "ee613e3a-6634-4c14-a1e6-ece34e621f77",
   "metadata": {},
   "outputs": [
    {
     "name": "stdout",
     "output_type": "stream",
     "text": [
      "max. element in array : 90\n"
     ]
    }
   ],
   "source": [
    "maxArr=ucs420_shraddha.max()\n",
    "print(\"max. element in array :\",maxArr)"
   ]
  },
  {
   "cell_type": "code",
   "execution_count": 158,
   "id": "11c6f5f8-1f6c-47fa-9dbe-2a2274ab23e5",
   "metadata": {},
   "outputs": [
    {
     "name": "stdout",
     "output_type": "stream",
     "text": [
      "min. element in array : 10\n"
     ]
    }
   ],
   "source": [
    "minArr=ucs420_shraddha.min()\n",
    "print(\"min. element in array :\",minArr)"
   ]
  },
  {
   "cell_type": "code",
   "execution_count": 164,
   "id": "825bfb28-65cd-4187-afc9-56b2aefc09a4",
   "metadata": {},
   "outputs": [
    {
     "name": "stdout",
     "output_type": "stream",
     "text": [
      "[[10 20 30]\n",
      " [40 50 60]\n",
      " [70 80 90]\n",
      " [15 20 35]]\n"
     ]
    }
   ],
   "source": [
    "reshaped_ucs420_shraddha=ucs420_shraddha.reshape(4,3)\n",
    "print(reshaped_ucs420_shraddha)"
   ]
  },
  {
   "cell_type": "code",
   "execution_count": 166,
   "id": "15a2c950-a636-4fee-93ba-7d7b3bd4ac7a",
   "metadata": {},
   "outputs": [
    {
     "data": {
      "text/plain": [
       "array([[10, 20, 30],\n",
       "       [40, 50, 60]])"
      ]
     },
     "execution_count": 166,
     "metadata": {},
     "output_type": "execute_result"
    }
   ],
   "source": [
    "resized_ucs420_shraddha=np.resize(ucs420_shraddha,(2,3))\n",
    "resized_ucs420_shraddha"
   ]
  }
 ],
 "metadata": {
  "kernelspec": {
   "display_name": "Python [conda env:base] *",
   "language": "python",
   "name": "conda-base-py"
  },
  "language_info": {
   "codemirror_mode": {
    "name": "ipython",
    "version": 3
   },
   "file_extension": ".py",
   "mimetype": "text/x-python",
   "name": "python",
   "nbconvert_exporter": "python",
   "pygments_lexer": "ipython3",
   "version": "3.12.7"
  }
 },
 "nbformat": 4,
 "nbformat_minor": 5
}
