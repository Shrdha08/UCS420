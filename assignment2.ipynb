{
 "cells": [
  {
   "cell_type": "markdown",
   "id": "9b5b3ea9-136e-4a07-852c-6111f6511415",
   "metadata": {},
   "source": [
    "1.Create a list L as defined as = [10,20,30,40,50,60,70,80]"
   ]
  },
  {
   "cell_type": "code",
   "execution_count": 35,
   "id": "fbfb552b-59da-405e-9f7b-019b89c85da2",
   "metadata": {},
   "outputs": [],
   "source": [
    "L = [10,20,30,40,50,60,70,80]"
   ]
  },
  {
   "cell_type": "markdown",
   "id": "e11fd8f3-99ea-43d1-9477-7585e881d9d2",
   "metadata": {},
   "source": [
    "i. WAP to add 200 and 300 to L."
   ]
  },
  {
   "cell_type": "code",
   "execution_count": 38,
   "id": "d25c60c4-bfa3-4cf0-a24c-6b5d21610a32",
   "metadata": {},
   "outputs": [
    {
     "name": "stdout",
     "output_type": "stream",
     "text": [
      "[10, 20, 30, 40, 50, 60, 70, 80, 200, 300]\n"
     ]
    }
   ],
   "source": [
    "L.append(200)\n",
    "L.append(300)\n",
    "print(L)"
   ]
  },
  {
   "cell_type": "markdown",
   "id": "2275ff94-a7c0-4156-bd59-80c96564a581",
   "metadata": {},
   "source": [
    "ii. WAP to remove 10 and 30 from L."
   ]
  },
  {
   "cell_type": "code",
   "execution_count": 41,
   "id": "d57f1c56-97d2-4580-9d1f-9c0826f42e17",
   "metadata": {},
   "outputs": [
    {
     "name": "stdout",
     "output_type": "stream",
     "text": [
      "[20, 40, 50, 60, 70, 80, 200, 300]\n"
     ]
    }
   ],
   "source": [
    "L.pop(0)\n",
    "L.pop(1)\n",
    "print(L)"
   ]
  },
  {
   "cell_type": "markdown",
   "id": "65500359-9e94-4fb5-b50b-3300bad8548a",
   "metadata": {},
   "source": [
    "iii. WAP to sort L in ascending order."
   ]
  },
  {
   "cell_type": "code",
   "execution_count": 43,
   "id": "4ba40165-0608-4ca8-8e7d-f99a5d8415d0",
   "metadata": {},
   "outputs": [
    {
     "name": "stdout",
     "output_type": "stream",
     "text": [
      "[20, 40, 50, 60, 70, 80, 200, 300]\n"
     ]
    }
   ],
   "source": [
    "L.sort()\n",
    "print(L)"
   ]
  },
  {
   "cell_type": "markdown",
   "id": "b742eafc-7b33-4cbc-95f3-e075e7a9d761",
   "metadata": {},
   "source": [
    "iv. WAP to sort L in descending order."
   ]
  },
  {
   "cell_type": "code",
   "execution_count": 45,
   "id": "41e37b77-ad0d-48f1-84a5-65dd36aaef5c",
   "metadata": {},
   "outputs": [
    {
     "name": "stdout",
     "output_type": "stream",
     "text": [
      "[300, 200, 80, 70, 60, 50, 40, 20]\n"
     ]
    }
   ],
   "source": [
    "L.sort(reverse=True)\n",
    "print(L)"
   ]
  },
  {
   "cell_type": "markdown",
   "id": "cf8b1b47-9e7e-4524-969c-42c5de89323a",
   "metadata": {},
   "source": [
    "2. Create a tuple of marks scored as scores = (45, 89.5, 76, 45.4, 89, 92, 58, 45) and\n",
    "perform the following operations using tuple functions:"
   ]
  },
  {
   "cell_type": "code",
   "execution_count": 48,
   "id": "eca64fc9-3fd0-49e6-923f-2baec0c9f560",
   "metadata": {},
   "outputs": [
    {
     "name": "stdout",
     "output_type": "stream",
     "text": [
      "tuple---> (45, 89.5, 76, 45.4, 89, 92, 58, 45)\n"
     ]
    }
   ],
   "source": [
    "tup =(45,89.5,76,45.4,89,92,58,45)\n",
    "print(\"tuple--->\",tup)"
   ]
  },
  {
   "cell_type": "markdown",
   "id": "d9ad5932-0f11-4cbc-98ea-cd055508e9a6",
   "metadata": {},
   "source": [
    "i. Identify the highest score and its index in the tuple."
   ]
  },
  {
   "cell_type": "code",
   "execution_count": 51,
   "id": "1fd7d1b4-e560-4d31-8e77-5b4d2ec6fb6e",
   "metadata": {},
   "outputs": [
    {
     "name": "stdout",
     "output_type": "stream",
     "text": [
      "highest score is---> 92\n",
      "5\n"
     ]
    }
   ],
   "source": [
    "highest_score =  max(tup)\n",
    "print(\"highest score is--->\",highest_score)\n",
    "highest_score_indx=tup.index(highest_score)\n",
    "print(highest_score_indx)"
   ]
  },
  {
   "cell_type": "markdown",
   "id": "9fc4aa1d-584f-43b7-b7c4-b95e9169eef4",
   "metadata": {},
   "source": [
    "ii. Find the lowest score and count how many times it appears."
   ]
  },
  {
   "cell_type": "code",
   "execution_count": 54,
   "id": "11cd9ea3-a2ca-46c7-8570-c75aa2bcdee2",
   "metadata": {},
   "outputs": [
    {
     "name": "stdout",
     "output_type": "stream",
     "text": [
      "lowest score is---> 45\n",
      "no of time it appears 2\n"
     ]
    }
   ],
   "source": [
    "lowest_score= min(tup)\n",
    "print(\"lowest score is--->\",lowest_score)\n",
    "count_lowest_score = tup.count(lowest_score)\n",
    "print(\"no of time it appears\", count_lowest_score)"
   ]
  },
  {
   "cell_type": "markdown",
   "id": "f76f4cee-38fe-4224-9c68-c8929c771488",
   "metadata": {},
   "source": [
    "iii. Reverse the tuple and return it as a list."
   ]
  },
  {
   "cell_type": "code",
   "execution_count": 57,
   "id": "e5641ebe-656b-49a5-a760-6c0dbde61d19",
   "metadata": {},
   "outputs": [
    {
     "name": "stdout",
     "output_type": "stream",
     "text": [
      "reverse of tuple as list---> [45, 58, 92, 89, 45.4, 76, 89.5, 45]\n"
     ]
    }
   ],
   "source": [
    "reverse_tup = list(reversed(tup))\n",
    "print(\"reverse of tuple as list--->\", reverse_tup)"
   ]
  },
  {
   "cell_type": "markdown",
   "id": "f4e0c18d-7dbc-42bf-942f-f885c42c5311",
   "metadata": {},
   "source": [
    "iv. Check if a specific score ‘76’ (input by the user) is present in the tuple and\n",
    "print its first occurrence index, or a message saying it’s not present."
   ]
  },
  {
   "cell_type": "code",
   "execution_count": 60,
   "id": "570538cf-cec2-4c75-8614-c9119123cc9c",
   "metadata": {},
   "outputs": [
    {
     "name": "stdout",
     "output_type": "stream",
     "text": [
      "first occurenece is present at index 2\n"
     ]
    }
   ],
   "source": [
    "specific_score = 76\n",
    "if specific_score in tup:\n",
    "   first_occurence = tup.index(specific_score)\n",
    "   print(\"first occurenece is present at index\",first_occurence)\n",
    "else:\n",
    "  print(\"the score is not present\")"
   ]
  },
  {
   "cell_type": "markdown",
   "id": "bdf5cf15-5dee-421a-a276-16f61375abf4",
   "metadata": {},
   "source": [
    "3. WAP to create a list of 100 random numbers between 100 and 900. Count and print\n",
    "the:"
   ]
  },
  {
   "cell_type": "code",
   "execution_count": 88,
   "id": "e2f766f0-bda2-4d04-8f4c-cdf1f42bca38",
   "metadata": {},
   "outputs": [
    {
     "name": "stdout",
     "output_type": "stream",
     "text": [
      "list of random number [432, 224, 262, 349, 273, 497, 865, 858, 627, 425, 461, 828, 165, 517, 295, 847, 154, 611, 379, 431, 532, 672, 748, 732, 771, 578, 815, 261, 216, 856, 606, 310, 277, 675, 193, 718, 225, 230, 833, 602, 676, 176, 638, 831, 282, 285, 391, 577, 450, 557, 573, 239, 859, 196, 549, 830, 206, 344, 263, 233, 426, 778, 843, 699, 709, 694, 315, 897, 862, 311, 165, 118, 328, 559, 595, 898, 718, 112, 725, 686, 115, 106, 807, 894, 400, 733, 557, 194, 469, 549, 596, 529, 727, 720, 237, 354, 727, 237, 399, 130]\n"
     ]
    }
   ],
   "source": [
    "import random\n",
    "random_numbers = [random.randint(100,900) for _ in range(100)]\n",
    "print(\"list of random number\", random_numbers)\n"
   ]
  },
  {
   "cell_type": "markdown",
   "id": "d9e3c4d0-a4af-4d21-be38-65b9e19ce2d0",
   "metadata": {},
   "source": [
    "i.All odd numbers"
   ]
  },
  {
   "cell_type": "code",
   "execution_count": 91,
   "id": "451e90e8-e21f-4af1-8b3a-397731691b37",
   "metadata": {},
   "outputs": [
    {
     "name": "stdout",
     "output_type": "stream",
     "text": [
      "all odd numbers: [349, 273, 497, 865, 627, 425, 461, 165, 517, 295, 847, 611, 379, 431, 771, 815, 261, 277, 675, 193, 225, 833, 831, 285, 391, 577, 557, 573, 239, 859, 549, 263, 233, 843, 699, 709, 315, 897, 311, 165, 559, 595, 725, 115, 807, 733, 557, 469, 549, 529, 727, 237, 727, 237, 399]\n"
     ]
    }
   ],
   "source": [
    "odd_numbers = [num for num in random_numbers if num%2!=0]\n",
    "print(\"all odd numbers:\",odd_numbers)"
   ]
  },
  {
   "cell_type": "markdown",
   "id": "7ee335db-71fb-4adb-adb0-9a5285a772e9",
   "metadata": {},
   "source": [
    "ii. All even numbers"
   ]
  },
  {
   "cell_type": "code",
   "execution_count": 94,
   "id": "f7bbfd46-6f82-429b-a6a4-36bcc5b094f0",
   "metadata": {},
   "outputs": [
    {
     "name": "stdout",
     "output_type": "stream",
     "text": [
      "all even numbers: [432, 224, 262, 858, 828, 154, 532, 672, 748, 732, 578, 216, 856, 606, 310, 718, 230, 602, 676, 176, 638, 282, 450, 196, 830, 206, 344, 426, 778, 694, 862, 118, 328, 898, 718, 112, 686, 106, 894, 400, 194, 596, 720, 354, 130]\n"
     ]
    }
   ],
   "source": [
    "even_numbers=[num for num in random_numbers if num%2==0]\n",
    "print(\"all even numbers:\",even_numbers)"
   ]
  },
  {
   "cell_type": "markdown",
   "id": "895dbd30-4e12-4ba6-9eac-df6dd10c61c8",
   "metadata": {},
   "source": [
    "iii.All prime numbers"
   ]
  },
  {
   "cell_type": "code",
   "execution_count": 112,
   "id": "ff96bd2f-3023-42c5-941d-5555c8a87aea",
   "metadata": {},
   "outputs": [
    {
     "name": "stdout",
     "output_type": "stream",
     "text": [
      "all prime numbers: [349, 461, 379, 431, 277, 193, 577, 557, 239, 859, 263, 233, 709, 311, 733, 557, 727, 727]\n"
     ]
    }
   ],
   "source": [
    "def is_prime(num):\n",
    "   if num<2:\n",
    "       return False\n",
    "   for i in range(2,num):\n",
    "        if num % i == 0:\n",
    "            return False\n",
    "   return True\n",
    "prime_numbers = [num for num in random_numbers if is_prime(num)]\n",
    "print(\"all prime numbers:\",prime_numbers)"
   ]
  },
  {
   "cell_type": "markdown",
   "id": "0fd831f0-7bc6-4da9-8b57-0c1911ddc382",
   "metadata": {},
   "source": [
    "4. Consider the following two sets, A and B, representing scores of two teams in multiple\n",
    "matches. A = {34, 56, 78, 90} and B = {78, 45, 90, 23}"
   ]
  },
  {
   "cell_type": "code",
   "execution_count": 116,
   "id": "9f8101f8-49d7-45d6-8909-892c5d2cd3cc",
   "metadata": {},
   "outputs": [],
   "source": [
    "A = {34,56,78,90}\n",
    "B = {78,45,90,23}"
   ]
  },
  {
   "cell_type": "markdown",
   "id": "03feb7b1-5820-4a84-a2dd-528de1f80675",
   "metadata": {},
   "source": [
    "i. Find the unique scores achieved by both teams (union of sets)."
   ]
  },
  {
   "cell_type": "code",
   "execution_count": 118,
   "id": "ea0aa93c-a254-4cd2-a8a8-757bfb07723f",
   "metadata": {},
   "outputs": [
    {
     "name": "stdout",
     "output_type": "stream",
     "text": [
      "union of a and b---> {34, 45, 78, 23, 56, 90}\n"
     ]
    }
   ],
   "source": [
    "print(\"union of a and b--->\", A.union(B))"
   ]
  },
  {
   "cell_type": "markdown",
   "id": "1e30a83a-c615-4550-a4ad-9f6f0a9a8bb4",
   "metadata": {},
   "source": [
    "ii. Identify the scores that are common to both teams (intersection of sets)."
   ]
  },
  {
   "cell_type": "code",
   "execution_count": 122,
   "id": "a36f0a92-6b95-4407-afdb-0dff58aef7ba",
   "metadata": {},
   "outputs": [
    {
     "name": "stdout",
     "output_type": "stream",
     "text": [
      "intersection of a,b---> {90, 78}\n"
     ]
    }
   ],
   "source": [
    "print(\"intersection of a,b--->\",A.intersection(B))"
   ]
  },
  {
   "cell_type": "markdown",
   "id": "c0a18d84-e1ce-413e-aca2-2eebc0b061a9",
   "metadata": {},
   "source": [
    "iii. Find the scores that are exclusive to each team (symmetric difference)."
   ]
  },
  {
   "cell_type": "code",
   "execution_count": 126,
   "id": "5080caf5-0c6e-48b5-a8b7-1014a28dcc41",
   "metadata": {},
   "outputs": [
    {
     "name": "stdout",
     "output_type": "stream",
     "text": [
      "symmetric difference---> {34, 45, 23, 56}\n"
     ]
    }
   ],
   "source": [
    "print(\"symmetric difference--->\", A.symmetric_difference(B))"
   ]
  },
  {
   "cell_type": "markdown",
   "id": "697a8756-f51d-40b9-a7a5-b1e38f9e4070",
   "metadata": {},
   "source": [
    "iv. Check if the scores of team A are a subset of team B, and if team B's scores are\n",
    "a superset of team A."
   ]
  },
  {
   "cell_type": "code",
   "execution_count": 128,
   "id": "9a32def1-7502-4326-a771-c6c120f7cf42",
   "metadata": {},
   "outputs": [
    {
     "name": "stdout",
     "output_type": "stream",
     "text": [
      "is A subset of B---> False\n",
      "is B superset of A---> False\n"
     ]
    }
   ],
   "source": [
    "is_A_subset_B = A.issubset(B)\n",
    "is_B_superset_A = B.issuperset(A)\n",
    "print(\"is A subset of B--->\", is_A_subset_B)\n",
    "print(\"is B superset of A--->\", is_B_superset_A )"
   ]
  },
  {
   "cell_type": "markdown",
   "id": "ccedae1b-f4c8-4327-8203-ed772d196772",
   "metadata": {},
   "source": [
    "v. Remove a specific score X (input by the user) from set A if it exists. If not, print\n",
    "a message saying it is not present."
   ]
  },
  {
   "cell_type": "code",
   "execution_count": 131,
   "id": "6b1397a5-db39-4bb9-beaa-590f5c7474bd",
   "metadata": {},
   "outputs": [
    {
     "name": "stdin",
     "output_type": "stream",
     "text": [
      "enter the score to remove from set A: 34\n"
     ]
    },
    {
     "name": "stdout",
     "output_type": "stream",
     "text": [
      "set A after removing the score---> {56, 90, 78}\n"
     ]
    }
   ],
   "source": [
    "x = int(input(\"enter the score to remove from set A:\"))\n",
    "if x in A:\n",
    "    A.remove(x)\n",
    "    print(\"set A after removing the score--->\", A)\n",
    "else:\n",
    "        print(\"the score is not present in set A\")\n"
   ]
  },
  {
   "cell_type": "markdown",
   "id": "7070c70e-4c94-4b5d-a317-77c279360a4d",
   "metadata": {},
   "source": [
    "5. Write a program to rename a key city to a location in the following dictionary."
   ]
  },
  {
   "cell_type": "code",
   "execution_count": 134,
   "id": "1329996f-c649-4164-ab34-b5b6dcca80d6",
   "metadata": {},
   "outputs": [
    {
     "name": "stdout",
     "output_type": "stream",
     "text": [
      "{'name': 'Kelly', 'age': 25, 'salary': 8000, 'city': 'New York'}\n",
      "{'name': 'Kelly', 'age': 25, 'salary': 8000, 'location': 'New York'}\n"
     ]
    }
   ],
   "source": [
    "sample_dict = {\n",
    "    \"name\": \"Kelly\",\n",
    "    \"age\": 25,\n",
    "    \"salary\": 8000,\n",
    "    \"city\": \"New York\"\n",
    "\n",
    "}\n",
    "print(sample_dict)\n",
    "sample_dict[\"location\"]=sample_dict.pop(\"city\")\n",
    "print(sample_dict)"
   ]
  }
 ],
 "metadata": {
  "kernelspec": {
   "display_name": "Python [conda env:base] *",
   "language": "python",
   "name": "conda-base-py"
  },
  "language_info": {
   "codemirror_mode": {
    "name": "ipython",
    "version": 3
   },
   "file_extension": ".py",
   "mimetype": "text/x-python",
   "name": "python",
   "nbconvert_exporter": "python",
   "pygments_lexer": "ipython3",
   "version": "3.12.7"
  }
 },
 "nbformat": 4,
 "nbformat_minor": 5
}
